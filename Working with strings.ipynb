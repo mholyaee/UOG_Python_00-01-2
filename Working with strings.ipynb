{
 "cells": [
  {
   "cell_type": "markdown",
   "id": "a2cd4e6e",
   "metadata": {},
   "source": [
    "### Example1: Simulate \"Len()\" function:"
   ]
  },
  {
   "cell_type": "code",
   "execution_count": 3,
   "id": "82e6c428",
   "metadata": {},
   "outputs": [
    {
     "name": "stdout",
     "output_type": "stream",
     "text": [
      "Give me a string:hello dear students!\n",
      "20\n"
     ]
    }
   ],
   "source": [
    "str1=input(\"Give me a string:\")\n",
    "#print(len(str1))\n",
    "L=0\n",
    "for x in str1:\n",
    "    L+=1\n",
    "print(L)\n",
    "    "
   ]
  },
  {
   "cell_type": "markdown",
   "id": "fbf21638",
   "metadata": {},
   "source": [
    "### Example2: Concate two strings!"
   ]
  },
  {
   "cell_type": "code",
   "execution_count": 6,
   "id": "9b8acbf2",
   "metadata": {},
   "outputs": [
    {
     "name": "stdout",
     "output_type": "stream",
     "text": [
      "The first:javad\n",
      "The second:aaaaa\n",
      "The length of both of them is equal!\n"
     ]
    }
   ],
   "source": [
    "str1=input('The first:')\n",
    "str2=input('The second:')\n",
    "if len(str1)<len(str2):\n",
    "    print(str1+str2)\n",
    "elif len(str1)>len(str2):\n",
    "    print(str2+str1)\n",
    "else:\n",
    "    print(\"The length of both of them is equal!\")\n",
    "    "
   ]
  },
  {
   "cell_type": "markdown",
   "id": "661134d5",
   "metadata": {},
   "source": [
    "### Example3: Checking for Upper case:"
   ]
  },
  {
   "cell_type": "code",
   "execution_count": 6,
   "id": "633f381f",
   "metadata": {},
   "outputs": [
    {
     "name": "stdout",
     "output_type": "stream",
     "text": [
      "Give your string:we\n"
     ]
    }
   ],
   "source": [
    "str1=input(\"Give your string:\")\n",
    "for i in str1:\n",
    "    #mohammadI\n",
    "    #if i=='A' or i=='B' or...i=='Z':\n",
    "    #    print('error')\n",
    "    #    break\n",
    "    if i in 'ABCDEFGHIJKLMNOPQRSTUVWXYZ':\n",
    "        print('error')\n",
    "        break\n"
   ]
  },
  {
   "cell_type": "code",
   "execution_count": 10,
   "id": "85da2703",
   "metadata": {},
   "outputs": [
    {
     "name": "stdout",
     "output_type": "stream",
     "text": [
      ">JAMSHID123\n",
      "Is not Valid\n"
     ]
    }
   ],
   "source": [
    "password=input(\">\")\n",
    "c1=False\n",
    "c2=False\n",
    "c3=False\n",
    "c4=False\n",
    "if len(password)>=8:\n",
    "    c1=True\n",
    "for i in password:\n",
    "    if i in 'abcdefghijklmnopqrstuvwz':\n",
    "        c2=True\n",
    "    if i in 'ABCDEFGHIJKLMNOPQRSTUVWXYZ':\n",
    "        c3=True\n",
    "    if i in '0123456789':\n",
    "        c4=True\n",
    "if c1 and c2 and c3 and c4:\n",
    "    print(\"The password is valid\")\n",
    "else:\n",
    "    print(\"Is not Valid\")"
   ]
  },
  {
   "cell_type": "code",
   "execution_count": 21,
   "id": "f8658733",
   "metadata": {},
   "outputs": [
    {
     "data": {
      "text/plain": [
       "'This is a test'"
      ]
     },
     "execution_count": 21,
     "metadata": {},
     "output_type": "execute_result"
    }
   ],
   "source": [
    "str='This is a test'\n",
    "str[-15:]\n"
   ]
  },
  {
   "cell_type": "markdown",
   "id": "b53352a2",
   "metadata": {},
   "source": [
    "## Example6"
   ]
  },
  {
   "cell_type": "code",
   "execution_count": 3,
   "id": "913f3f02",
   "metadata": {},
   "outputs": [
    {
     "name": "stdout",
     "output_type": "stream",
     "text": [
      ">This is my Computer and My Computer is very old\n",
      "Exist\n"
     ]
    }
   ],
   "source": [
    "str=input('>')\n",
    "if 'Computer' in str:\n",
    "    print('Exist')\n",
    "else:\n",
    "    print('There isnt')"
   ]
  },
  {
   "cell_type": "markdown",
   "id": "ea820b91",
   "metadata": {},
   "source": [
    "### Another solution:"
   ]
  },
  {
   "cell_type": "code",
   "execution_count": 4,
   "id": "e2aa5b29",
   "metadata": {},
   "outputs": [
    {
     "name": "stdout",
     "output_type": "stream",
     "text": [
      ">This is My Computer and My Computer is very  old\n",
      "11\n",
      "27\n"
     ]
    }
   ],
   "source": [
    "str=input('>')\n",
    "i=0\n",
    "while i<len(str):\n",
    "    if str[i:i+len('Computer')]=='Computer':\n",
    "        print(i)\n",
    "    i+=1"
   ]
  },
  {
   "cell_type": "markdown",
   "id": "8a2678f0",
   "metadata": {},
   "source": [
    "## Validation of email"
   ]
  },
  {
   "cell_type": "code",
   "execution_count": 7,
   "id": "6213f27f",
   "metadata": {},
   "outputs": [
    {
     "name": "stdout",
     "output_type": "stream",
     "text": [
      "email:mh.olyaee\n",
      "Not Valid\n"
     ]
    }
   ],
   "source": [
    "email=input('email:')\n",
    "dot=False\n",
    "at=False\n",
    "if '.' in email:\n",
    "    dot=True\n",
    "if '@' in email:\n",
    "    at=True\n",
    "if dot and at:\n",
    "    print('Valid')\n",
    "else:\n",
    "    print('Not Valid')"
   ]
  },
  {
   "cell_type": "markdown",
   "id": "b58e00de",
   "metadata": {},
   "source": [
    "## Example: Extracting domain of email"
   ]
  },
  {
   "cell_type": "code",
   "execution_count": 8,
   "id": "263e2ddc",
   "metadata": {},
   "outputs": [
    {
     "name": "stdout",
     "output_type": "stream",
     "text": [
      "email:mh.olyaee@gmail.com\n",
      "gmail\n"
     ]
    }
   ],
   "source": [
    "email=input('email:')\n",
    "atind=0\n",
    "while atind<len(email):\n",
    "    if email[atind]=='@':\n",
    "        break\n",
    "    atind+=1\n",
    "dotind=atind+1\n",
    "while dotind<len(email):\n",
    "    if email[dotind]=='.':\n",
    "        print(email[atind+1:dotind])\n",
    "        break\n",
    "    dotind+=1"
   ]
  },
  {
   "cell_type": "markdown",
   "id": "f40ae8d9",
   "metadata": {},
   "source": [
    "## Example: Validation of Mobile number:"
   ]
  },
  {
   "cell_type": "code",
   "execution_count": 12,
   "id": "b7c7f407",
   "metadata": {},
   "outputs": [
    {
     "name": "stdout",
     "output_type": "stream",
     "text": [
      "Your phone:0915e458761\n",
      "Not valid\n"
     ]
    }
   ],
   "source": [
    "number=input(\"Your phone:\")\n",
    "L=False\n",
    "Z=False\n",
    "allint=False\n",
    "if len(number)==11:\n",
    "    L=True\n",
    "if number[0]=='0':\n",
    "    Z=True\n",
    "for i in number:\n",
    "    if i not in '0123456789':\n",
    "        break\n",
    "else:\n",
    "    allint=True\n",
    "if L and Z and allint:\n",
    "    print(\"Your input is valid\")\n",
    "else:\n",
    "    print(\"Not valid\")"
   ]
  },
  {
   "cell_type": "code",
   "execution_count": null,
   "id": "97804f5d",
   "metadata": {},
   "outputs": [],
   "source": []
  },
  {
   "cell_type": "code",
   "execution_count": null,
   "id": "a3526c2d",
   "metadata": {},
   "outputs": [],
   "source": []
  },
  {
   "cell_type": "markdown",
   "id": "4f74f23d",
   "metadata": {},
   "source": [
    "### Homework2:"
   ]
  },
  {
   "cell_type": "code",
   "execution_count": null,
   "id": "fadf5501",
   "metadata": {},
   "outputs": [],
   "source": [
    "str1=input(\"Give your string:\")\n",
    "for i in str1:\n",
    "    #mohammadI\n",
    "    #if i=='A' or i=='B' or...i=='Z':\n",
    "    #    print('error')\n",
    "    #    break\n",
    "    if i in 'ABCDEFGHIJKLMNOPQRSTUVWXYZ':\n",
    "        print('error')\n",
    "        break\n",
    "else:\n",
    "    print('Ok')"
   ]
  },
  {
   "cell_type": "markdown",
   "id": "29214728",
   "metadata": {},
   "source": [
    "### Homework1: Simulate \"len()\" with while loop:"
   ]
  },
  {
   "cell_type": "code",
   "execution_count": 14,
   "id": "8ba8d7df",
   "metadata": {},
   "outputs": [
    {
     "name": "stdout",
     "output_type": "stream",
     "text": [
      "Give me a string:hihihi\n",
      "7\n"
     ]
    }
   ],
   "source": [
    "str=input('input your string:')\n",
    "i=0\n",
    "while True:\n",
    "    try:\n",
    "        ch=str[i]\n",
    "        i+=1\n",
    "    except:\n",
    "        break\n",
    "print(i)"
   ]
  },
  {
   "cell_type": "code",
   "execution_count": 5,
   "id": "227b7544",
   "metadata": {},
   "outputs": [
    {
     "name": "stdout",
     "output_type": "stream",
     "text": [
      "Jenny\n"
     ]
    }
   ],
   "source": [
    "name='Penny'\n",
    "name=name.replace('P','J')\n",
    "print(name)"
   ]
  },
  {
   "cell_type": "code",
   "execution_count": null,
   "id": "7b5082a2",
   "metadata": {},
   "outputs": [],
   "source": []
  }
 ],
 "metadata": {
  "kernelspec": {
   "display_name": "Python 3 (ipykernel)",
   "language": "python",
   "name": "python3"
  },
  "language_info": {
   "codemirror_mode": {
    "name": "ipython",
    "version": 3
   },
   "file_extension": ".py",
   "mimetype": "text/x-python",
   "name": "python",
   "nbconvert_exporter": "python",
   "pygments_lexer": "ipython3",
   "version": "3.9.7"
  }
 },
 "nbformat": 4,
 "nbformat_minor": 5
}
