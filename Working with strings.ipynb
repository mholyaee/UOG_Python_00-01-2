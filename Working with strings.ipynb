{
 "cells": [
  {
   "cell_type": "markdown",
   "id": "44b8fe11",
   "metadata": {},
   "source": [
    "### Example1: Simulate \"Len()\" function:"
   ]
  },
  {
   "cell_type": "code",
   "execution_count": 3,
   "id": "5ba5d9a7",
   "metadata": {},
   "outputs": [
    {
     "name": "stdout",
     "output_type": "stream",
     "text": [
      "Give me a string:hello dear students!\n",
      "20\n"
     ]
    }
   ],
   "source": [
    "str1=input(\"Give me a string:\")\n",
    "#print(len(str1))\n",
    "L=0\n",
    "for x in str1:\n",
    "    L+=1\n",
    "print(L)\n",
    "    "
   ]
  },
  {
   "cell_type": "markdown",
   "id": "d5c238d4",
   "metadata": {},
   "source": [
    "### Example2: Concate two strings!"
   ]
  },
  {
   "cell_type": "code",
   "execution_count": 6,
   "id": "f2a673b3",
   "metadata": {},
   "outputs": [
    {
     "name": "stdout",
     "output_type": "stream",
     "text": [
      "The first:javad\n",
      "The second:aaaaa\n",
      "The length of both of them is equal!\n"
     ]
    }
   ],
   "source": [
    "str1=input('The first:')\n",
    "str2=input('The second:')\n",
    "if len(str1)<len(str2):\n",
    "    print(str1+str2)\n",
    "elif len(str1)>len(str2):\n",
    "    print(str2+str1)\n",
    "else:\n",
    "    print(\"The length of both of them is equal!\")\n",
    "    "
   ]
  },
  {
   "cell_type": "markdown",
   "id": "d5c07bec",
   "metadata": {},
   "source": [
    "### Example3: Checking for Upper case:"
   ]
  },
  {
   "cell_type": "code",
   "execution_count": 11,
   "id": "7ddc517e",
   "metadata": {},
   "outputs": [
    {
     "name": "stdout",
     "output_type": "stream",
     "text": [
      "Give your string:(alireza is my student)\n"
     ]
    }
   ],
   "source": [
    "str1=input(\"Give your string:\")\n",
    "for i in str1:\n",
    "    #mohammadI\n",
    "    #if i=='A' or i=='B' or...i=='Z':\n",
    "    #    print('error')\n",
    "    #    break\n",
    "    if i in 'ABCDEFGHIJKLMNOPQRSTUVWXYZ':\n",
    "        print('error')\n",
    "        break"
   ]
  },
  {
   "cell_type": "code",
   "execution_count": 9,
   "id": "1820660d",
   "metadata": {},
   "outputs": [
    {
     "data": {
      "text/plain": [
       "False"
      ]
     },
     "execution_count": 9,
     "metadata": {},
     "output_type": "execute_result"
    }
   ],
   "source": [
    "'d'in 'abc'"
   ]
  },
  {
   "cell_type": "code",
   "execution_count": null,
   "id": "1a7149c4",
   "metadata": {},
   "outputs": [],
   "source": []
  }
 ],
 "metadata": {
  "kernelspec": {
   "display_name": "Python 3 (ipykernel)",
   "language": "python",
   "name": "python3"
  },
  "language_info": {
   "codemirror_mode": {
    "name": "ipython",
    "version": 3
   },
   "file_extension": ".py",
   "mimetype": "text/x-python",
   "name": "python",
   "nbconvert_exporter": "python",
   "pygments_lexer": "ipython3",
   "version": "3.9.7"
  }
 },
 "nbformat": 4,
 "nbformat_minor": 5
}
