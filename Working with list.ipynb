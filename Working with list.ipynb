{
 "cells": [
  {
   "attachments": {},
   "cell_type": "markdown",
   "id": "e007de8d",
   "metadata": {
    "direction": "rtl"
   },
   "source": [
    "## مثال1: لیستی از نام دانشجویان یک کلاس را در اختیار داریم. برنامه ای بنویسید که نام فردی را دریافت کرده و در صورت عدم وجود در لیست، آنرا به انتهای لیست اضافه نماید.\n"
   ]
  },
  {
   "cell_type": "markdown",
   "id": "1bb493da",
   "metadata": {},
   "source": [
    "### Using \"in\" opreator:"
   ]
  },
  {
   "cell_type": "code",
   "execution_count": 2,
   "id": "632993ee",
   "metadata": {},
   "outputs": [
    {
     "name": "stdout",
     "output_type": "stream",
     "text": [
      ">babak\n",
      "['ali', 'farzin', 'babak', 'mina', 'meysam']\n"
     ]
    }
   ],
   "source": [
    "names=['ali','farzin','babak','mina','meysam']\n",
    "newname=input(\">\")\n",
    "if newname not in names:\n",
    "    names.append(newname)\n",
    "print(names)"
   ]
  },
  {
   "cell_type": "markdown",
   "id": "b6857580",
   "metadata": {},
   "source": [
    "### Using flag varibale"
   ]
  },
  {
   "cell_type": "code",
   "execution_count": 5,
   "id": "ed6e571a",
   "metadata": {},
   "outputs": [
    {
     "name": "stdout",
     "output_type": "stream",
     "text": [
      ">farzin\n",
      "['ali', 'farzin', 'babak', 'mina', 'meysam']\n"
     ]
    }
   ],
   "source": [
    "names=['ali','farzin','babak','mina','meysam']\n",
    "newname=input(\">\")\n",
    "flag=0\n",
    "for n in names:\n",
    "    if newname==n:\n",
    "        flag=1\n",
    "        break\n",
    "if flag==0:\n",
    "    names.append(newname)\n",
    "      \n",
    "print(names)"
   ]
  },
  {
   "cell_type": "markdown",
   "id": "8d95db7d",
   "metadata": {},
   "source": [
    "### Utlizing else:"
   ]
  },
  {
   "cell_type": "code",
   "execution_count": 7,
   "id": "a130c280",
   "metadata": {},
   "outputs": [
    {
     "name": "stdout",
     "output_type": "stream",
     "text": [
      "0\n"
     ]
    }
   ],
   "source": [
    "for i in range(5):\n",
    "    if i%2==0: \n",
    "        print(i)\n",
    "        break\n",
    "else:\n",
    "    print(\"Finish\")"
   ]
  },
  {
   "cell_type": "code",
   "execution_count": 9,
   "id": "cfd5d6a3",
   "metadata": {},
   "outputs": [
    {
     "name": "stdout",
     "output_type": "stream",
     "text": [
      ">mina\n",
      "['ali', 'farzin', 'babak', 'mina', 'meysam']\n"
     ]
    }
   ],
   "source": [
    "names=['ali','farzin','babak','mina','meysam']\n",
    "newname=input(\">\")\n",
    "#flag=0\n",
    "for n in names:\n",
    "    if newname==n:\n",
    "        #flag=1\n",
    "        break\n",
    "else:\n",
    "    names.append(newname)\n",
    "      \n",
    "print(names)"
   ]
  },
  {
   "attachments": {},
   "cell_type": "markdown",
   "id": "3714141c",
   "metadata": {
    "direction": "rtl"
   },
   "source": [
    "## مثال2: لیستی مرتب از اعداد را در اختیار داریم. برنامه ای بنویسید که عددی را از کاربر دریافت کرده وآنرا به نحوی در لیست درج نماید که همچنان مرتب باقی بماند"
   ]
  },
  {
   "cell_type": "code",
   "execution_count": 5,
   "id": "ce3aac73",
   "metadata": {},
   "outputs": [
    {
     "name": "stdout",
     "output_type": "stream",
     "text": [
      ">21\n",
      "[5, 10, 12, 15, 20, 21, 22, 30, 35, 38, 70]\n"
     ]
    }
   ],
   "source": [
    "a=[5,10,12,15,20,22,30,35,38,70]\n",
    "x=int(input(\">\"))\n",
    "a.append(x)\n",
    "a.sort()\n",
    "print(a)"
   ]
  },
  {
   "cell_type": "code",
   "execution_count": 6,
   "id": "cb5da933",
   "metadata": {},
   "outputs": [
    {
     "name": "stdout",
     "output_type": "stream",
     "text": [
      ">21\n",
      "[5, 10, 12, 15, 20, 21, 22, 30, 35, 38, 70]\n"
     ]
    }
   ],
   "source": [
    "a=[5,10,12,15,20,22,30,35,38,70]\n",
    "x=int(input(\">\"))\n",
    "for i in range(len(a)):\n",
    "    if a[i]>x:\n",
    "        break\n",
    "a.insert(i,x)\n",
    "print(a)"
   ]
  },
  {
   "cell_type": "code",
   "execution_count": 7,
   "id": "a11d227a",
   "metadata": {},
   "outputs": [
    {
     "name": "stdout",
     "output_type": "stream",
     "text": [
      ">21\n",
      "[5, 10, 12, 15, 20, 21, 22, 30, 35, 38, 70]\n"
     ]
    }
   ],
   "source": [
    "a=[5,10,12,15,20,22,30,35,38,70]\n",
    "x=int(input(\">\"))\n",
    "a.append(x)\n",
    "i=len(a)-1\n",
    "while a[i]<a[i-1]:\n",
    "    a[i],a[i-1]=a[i-1],a[i]\n",
    "    i-=1\n",
    "\n",
    "print(a)"
   ]
  },
  {
   "attachments": {},
   "cell_type": "markdown",
   "id": "4e0b58ba",
   "metadata": {
    "direction": "rtl"
   },
   "source": [
    "## مثال3: برنامه ای بنویسید که عناصر یک لیست را در لیست دیگری کپی نماید\n"
   ]
  },
  {
   "cell_type": "code",
   "execution_count": 11,
   "id": "e0baf589",
   "metadata": {},
   "outputs": [
    {
     "name": "stdout",
     "output_type": "stream",
     "text": [
      "[45, 3, 19, 3, 6, 1, 12, 56]\n"
     ]
    }
   ],
   "source": [
    "a=[3,6,1,12,56]\n",
    "b=[45,3,19]\n",
    "for i in a:\n",
    "    b.append(i)\n",
    "print(b)"
   ]
  },
  {
   "cell_type": "code",
   "execution_count": 12,
   "id": "aa9e8610",
   "metadata": {},
   "outputs": [
    {
     "name": "stdout",
     "output_type": "stream",
     "text": [
      "[45, 3, 19, 3, 6, 1, 12, 56]\n"
     ]
    }
   ],
   "source": [
    "a=[3,6,1,12,56]\n",
    "b=[45,3,19]\n",
    "b=b+a\n",
    "print(b)"
   ]
  },
  {
   "cell_type": "code",
   "execution_count": 13,
   "id": "55d1adaf",
   "metadata": {},
   "outputs": [
    {
     "name": "stdout",
     "output_type": "stream",
     "text": [
      "[45, 3, 19, 3, 6, 1, 12, 56]\n"
     ]
    }
   ],
   "source": [
    "a=[3,6,1,12,56]\n",
    "b=[45,3,19]\n",
    "b.extend(a)\n",
    "print(b)"
   ]
  },
  {
   "cell_type": "code",
   "execution_count": 18,
   "id": "4dd5facc",
   "metadata": {},
   "outputs": [
    {
     "name": "stdout",
     "output_type": "stream",
     "text": [
      "[3, 6, 1, 12, 56, 1000]\n",
      "[3, 6, 1, 12, 56, 1000, 2000]\n",
      "[3, 6, 1, 12, 56, 1000, 2000]\n",
      "[3, 6, 1, 12, 56, 1000, 2000, 3000]\n"
     ]
    }
   ],
   "source": [
    "a=[3,6,1,12,56]\n",
    "b=a\n",
    "a.append(1000)\n",
    "print(b)\n",
    "b.append(2000)\n",
    "print(a)\n",
    "print(b)\n",
    "c=a\n",
    "c.append(3000)\n",
    "print(b)"
   ]
  },
  {
   "attachments": {},
   "cell_type": "markdown",
   "id": "e5bd13c9",
   "metadata": {
    "direction": "rtl"
   },
   "source": [
    "## مثال4: برنامه ای بنویسید که عناصر مشترک بین دو لیست را در لیست دیگری قرار دهد"
   ]
  },
  {
   "cell_type": "code",
   "execution_count": 20,
   "id": "4b63573d",
   "metadata": {},
   "outputs": [
    {
     "name": "stdout",
     "output_type": "stream",
     "text": [
      "[3, 2, 22, 87]\n"
     ]
    }
   ],
   "source": [
    "a=[12,15,16,3,2,67,22,45,87]\n",
    "b=[87,17,344,3,2,19,1,70,22,200,171]\n",
    "c=[]\n",
    "for i in a:\n",
    "    for j in b:\n",
    "        if i==j:\n",
    "            c.append(i)\n",
    "            break\n",
    "print(c)\n"
   ]
  },
  {
   "cell_type": "code",
   "execution_count": 21,
   "id": "df4718c1",
   "metadata": {},
   "outputs": [
    {
     "name": "stdout",
     "output_type": "stream",
     "text": [
      "[3, 2, 22, 87]\n"
     ]
    }
   ],
   "source": [
    "a=[12,15,16,3,2,67,22,45,87]\n",
    "b=[87,17,344,3,2,19,1,70,22,200,171]\n",
    "c=[]\n",
    "for i in a:\n",
    "    if i in b:\n",
    "        c.append(i)\n",
    "print(c)"
   ]
  },
  {
   "attachments": {},
   "cell_type": "markdown",
   "id": "7d97ef05",
   "metadata": {
    "direction": "rtl"
   },
   "source": [
    "## مثال5: برنامه ای بنویسید که رشته ای را از کاربر گرفته موارد زیر را چاپ نماید:\n",
    "### تعداد کلمات\n",
    "### چاپ جداگانه کلمات\n",
    "### طول هر کلمه\n",
    "### لازم به توضیح است کلمات با ‘ ‘، ‘.’، ‘,’ از هم جدا شده اند.\n"
   ]
  },
  {
   "cell_type": "code",
   "execution_count": 28,
   "id": "8c62253f",
   "metadata": {},
   "outputs": [
    {
     "name": "stdout",
     "output_type": "stream",
     "text": [
      "Enter your sentence:This is a sample. to test the,code.\n",
      "['This', 'is', 'a', 'sample', 'to', 'test', 'the', 'code']\n",
      "The number of words: 8\n",
      "This 4\n",
      "is 2\n",
      "a 1\n",
      "sample 6\n",
      "to 2\n",
      "test 4\n",
      "the 3\n",
      "code 4\n"
     ]
    }
   ],
   "source": [
    "p=input(\"Enter your sentence:\")\n",
    "# Split the words based on .,space, and ,\n",
    "p=p.replace(\".\",\" \")\n",
    "p=p.replace(\",\",\" \")\n",
    "words=p.split()\n",
    "#print(words)\n",
    "print(\"The number of words:\",len(words))\n",
    "for w in words:\n",
    "    print(w,len(w))"
   ]
  },
  {
   "cell_type": "code",
   "execution_count": 19,
   "id": "3b6ed7b5",
   "metadata": {},
   "outputs": [
    {
     "data": {
      "text/plain": [
       "'mida'"
      ]
     },
     "execution_count": 19,
     "metadata": {},
     "output_type": "execute_result"
    }
   ],
   "source": [
    "s=\"mina\"\n",
    "s.replace(\"n\",\"d\")"
   ]
  },
  {
   "attachments": {},
   "cell_type": "markdown",
   "id": "913dd80d",
   "metadata": {
    "direction": "rtl"
   },
   "source": [
    "## مثال6: فرض کنید دو لیست مرتب از اعداد را در اختیار داریم. برنامه ای بنویسید که این دو لیست را بنحوی با هم ادغام نماید تا لیست جدید همچنان مرتب باشد\n"
   ]
  },
  {
   "cell_type": "code",
   "execution_count": 29,
   "id": "0c2be9ad",
   "metadata": {},
   "outputs": [
    {
     "name": "stdout",
     "output_type": "stream",
     "text": [
      "[2, 4, 5, 6, 6, 9, 11, 12, 16, 18, 19, 20, 30, 40, 50]\n"
     ]
    }
   ],
   "source": [
    "a=[2,5,6,12,16,18,19,20]\n",
    "b=[4,6,9,11,30,40,50]\n",
    "c=[]\n",
    "i=0\n",
    "j=0\n",
    "while i<len(a) and j<len(b):\n",
    "    if a[i]<b[j]:\n",
    "        c.append(a[i])\n",
    "        i+=1\n",
    "    elif a[i]>b[j]:\n",
    "        c.append(b[j])\n",
    "        j+=1\n",
    "    else:\n",
    "        c.append(a[i])\n",
    "        c.append(b[j])\n",
    "        i+=1\n",
    "        j+=1\n",
    "while i<len(a):\n",
    "    c.append(a[i])\n",
    "    i+=1\n",
    "while j<len(b):\n",
    "    c.append(b[j])\n",
    "    j+=1\n",
    "print(c)"
   ]
  },
  {
   "cell_type": "code",
   "execution_count": 43,
   "id": "72d9e896",
   "metadata": {},
   "outputs": [
    {
     "name": "stdout",
     "output_type": "stream",
     "text": [
      "[2, 4, 5, 6, 6, 9, 11, 12, 16, 18, 19, 20, 21, 23, 25, 30, 40, 50]\n"
     ]
    }
   ],
   "source": [
    "a=[2,5,6,12,16,18,19,20,21,23,25]\n",
    "b=[4,6,9,11,30,40,50]\n",
    "for x in b:\n",
    "    for i in range(len(a)):\n",
    "        if a[i]>x:\n",
    "            a.insert(i,x)\n",
    "            break\n",
    "    else:\n",
    "        a.insert(i+1,x)\n",
    "print(a)"
   ]
  }
 ],
 "metadata": {
  "kernelspec": {
   "display_name": "Python 3 (ipykernel)",
   "language": "python",
   "name": "python3"
  },
  "language_info": {
   "codemirror_mode": {
    "name": "ipython",
    "version": 3
   },
   "file_extension": ".py",
   "mimetype": "text/x-python",
   "name": "python",
   "nbconvert_exporter": "python",
   "pygments_lexer": "ipython3",
   "version": "3.9.7"
  }
 },
 "nbformat": 4,
 "nbformat_minor": 5
}
