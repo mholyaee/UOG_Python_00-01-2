{
 "cells": [
  {
   "cell_type": "markdown",
   "id": "c2cd9e92",
   "metadata": {},
   "source": [
    "# Iterations and loops"
   ]
  },
  {
   "cell_type": "markdown",
   "id": "51b366e5",
   "metadata": {},
   "source": [
    "## Factorial:"
   ]
  },
  {
   "cell_type": "code",
   "execution_count": 1,
   "id": "e7396d5c",
   "metadata": {},
   "outputs": [
    {
     "name": "stdout",
     "output_type": "stream",
     "text": [
      "number:5\n",
      "output= 120\n"
     ]
    }
   ],
   "source": [
    "n=int(input(\"number:\"))\n",
    "F=1\n",
    "while n>0:\n",
    "    F=F*n\n",
    "    n=n-1\n",
    "print(\"output=\",F)\n",
    "    "
   ]
  },
  {
   "cell_type": "markdown",
   "id": "9c9b06ca",
   "metadata": {},
   "source": [
    "### Second form:"
   ]
  },
  {
   "cell_type": "code",
   "execution_count": 2,
   "id": "b10fb69c",
   "metadata": {},
   "outputs": [
    {
     "name": "stdout",
     "output_type": "stream",
     "text": [
      "number:5\n",
      "output= 120\n"
     ]
    }
   ],
   "source": [
    "n=int(input(\"number:\"))\n",
    "F=1\n",
    "i=1\n",
    "while i<=n:\n",
    "    F=F*i\n",
    "    i=i+1\n",
    "print(\"output=\",F)\n",
    "    "
   ]
  },
  {
   "cell_type": "markdown",
   "id": "865bdaba",
   "metadata": {},
   "source": [
    "## Sum of a seri"
   ]
  },
  {
   "cell_type": "code",
   "execution_count": 3,
   "id": "4cf585ac",
   "metadata": {},
   "outputs": [
    {
     "name": "stdout",
     "output_type": "stream",
     "text": [
      "5.187377517639621\n"
     ]
    }
   ],
   "source": [
    "s=0\n",
    "i=1\n",
    "while i<=100:\n",
    "    s+=1/i\n",
    "    i+=1\n",
    "print(s)"
   ]
  },
  {
   "cell_type": "code",
   "execution_count": 6,
   "id": "b4d7900e",
   "metadata": {},
   "outputs": [
    {
     "name": "stdout",
     "output_type": "stream",
     "text": [
      "number:5482\n",
      "1\n",
      "2\n",
      "2741\n",
      "5482\n"
     ]
    }
   ],
   "source": [
    "n=input(\"number:\")\n",
    "n=int(n)\n",
    "i=1\n",
    "while i<=n:\n",
    "    if n%i==0:\n",
    "        print(i)\n",
    "    i+=1"
   ]
  },
  {
   "cell_type": "markdown",
   "id": "67d738bd",
   "metadata": {},
   "source": [
    "## Homework2"
   ]
  },
  {
   "cell_type": "code",
   "execution_count": 1,
   "id": "7b797123",
   "metadata": {},
   "outputs": [
    {
     "name": "stdout",
     "output_type": "stream",
     "text": [
      "0.6881721793101957\n"
     ]
    }
   ],
   "source": [
    "i=1\n",
    "Sum=0\n",
    "sgn=1\n",
    "while i<=99:\n",
    "    Sum+=i/(i+1)*sgn\n",
    "    sgn*=(-1)\n",
    "    i+=1\n",
    "print(Sum)"
   ]
  },
  {
   "cell_type": "markdown",
   "id": "11c7250b",
   "metadata": {},
   "source": [
    "## Example 6"
   ]
  },
  {
   "cell_type": "code",
   "execution_count": 5,
   "id": "5bc41cc2",
   "metadata": {},
   "outputs": [
    {
     "name": "stdout",
     "output_type": "stream",
     "text": [
      "Enter the student number:123\n",
      "Male or female?m/f:f\n",
      "Enter the student number:234\n",
      "Male or female?m/f:f\n",
      "Enter the student number:456\n",
      "Male or female?m/f:f\n",
      "Enter the student number:0\n",
      "all of the entered are women!\n"
     ]
    }
   ],
   "source": [
    "last=\"\"\n",
    "while True:\n",
    "    st_no=input(\"Enter the student number:\")\n",
    "    if st_no=='0':\n",
    "        break\n",
    "    code=input(\"Male or female?m/f:\")\n",
    "    if code=='m':\n",
    "        last=st_no\n",
    "if last==\"\":\n",
    "    print(\"all of the entered are women!\")\n",
    "else:\n",
    "    print(last)"
   ]
  },
  {
   "cell_type": "markdown",
   "id": "edfb6f95",
   "metadata": {},
   "source": [
    "## Using \"Continue\""
   ]
  },
  {
   "cell_type": "code",
   "execution_count": 1,
   "id": "17e8dd43",
   "metadata": {},
   "outputs": [
    {
     "name": "stdout",
     "output_type": "stream",
     "text": [
      "reza\n",
      "reza\n",
      "ali\n",
      "ali\n",
      "*ignore\n",
      "mehri\n",
      "mehri\n",
      "alireza\n",
      "alireza\n",
      "done\n",
      "4\n"
     ]
    }
   ],
   "source": [
    "Sum=0\n",
    "while True:\n",
    "    str1=input()\n",
    "    if str1==\"done\":\n",
    "        break\n",
    "    if str1[0]==\"*\":\n",
    "        continue\n",
    "    print(str1)\n",
    "    Sum+=1\n",
    "print(Sum)"
   ]
  },
  {
   "cell_type": "code",
   "execution_count": 2,
   "id": "d6cf01fb",
   "metadata": {},
   "outputs": [
    {
     "name": "stdout",
     "output_type": "stream",
     "text": [
      "ali\n",
      "ali\n",
      "reza\n",
      "reza\n",
      "mina\n",
      "mina\n",
      "*saeed\n",
      "*mejid\n",
      "done\n",
      "3\n"
     ]
    }
   ],
   "source": [
    "Sum=0\n",
    "while True:\n",
    "    str1=input()\n",
    "    if str1==\"done\":\n",
    "        break\n",
    "    if str1[0]!=\"*\":\n",
    "        print(str1)\n",
    "        Sum+=1\n",
    "print(Sum)"
   ]
  },
  {
   "cell_type": "markdown",
   "id": "59511cc5",
   "metadata": {},
   "source": [
    "## Example9"
   ]
  },
  {
   "cell_type": "code",
   "execution_count": 3,
   "id": "badbf3cd",
   "metadata": {},
   "outputs": [
    {
     "name": "stdout",
     "output_type": "stream",
     "text": [
      "input the cost:1200\n",
      "input the cost:230\n",
      "input the cost:800\n",
      "input the cost:1900\n",
      "input the cost:2000\n",
      "input the cost:255\n",
      "input the cost:800\n",
      "input the cost:900\n",
      "input the cost:1000\n",
      "input the cost:1200\n",
      "input the cost:3400\n",
      "input the cost:2300\n",
      "The average= 1332.0833333333333\n",
      "The Max is: 3400\n",
      "Its number is: 11\n"
     ]
    }
   ],
   "source": [
    "avg=0\n",
    "i=1\n",
    "Sum=0\n",
    "Max=0\n",
    "Max_ind=0\n",
    "while i<=12:\n",
    "    cost=int(input(\"input the cost:\"))\n",
    "    Sum+=cost\n",
    "    if Max<cost:\n",
    "        Max=cost\n",
    "        Max_ind=i\n",
    "    i+=1\n",
    "avg=Sum/12\n",
    "print(\"The average=\",avg)\n",
    "print(\"The Max is:\",Max)\n",
    "print(\"Its number is:\",Max_ind)\n",
    "        \n",
    "    "
   ]
  },
  {
   "cell_type": "code",
   "execution_count": 4,
   "id": "9f67cd3f",
   "metadata": {},
   "outputs": [
    {
     "name": "stdout",
     "output_type": "stream",
     "text": [
      "input the cost:1200\n",
      "input the cost:1250\n",
      "input the cost:3000\n",
      "input the cost:3400\n",
      "input the cost:2300\n",
      "input the cost:1234\n",
      "input the cost:5000\n",
      "input the cost:123\n",
      "input the cost:456\n",
      "input the cost:12\n",
      "input the cost:34\n",
      "input the cost:54\n",
      "The average= 1505.25\n",
      "The Max is: 5000\n",
      "Its number is: 7\n"
     ]
    }
   ],
   "source": [
    "Sum=0\n",
    "Max=0\n",
    "for i in [1,2,3,4,5,6,7,8,9,10,11,12]:\n",
    "    cost=int(input(\"input the cost:\"))\n",
    "    Sum+=cost\n",
    "    if Max<cost:\n",
    "        Max=cost\n",
    "        Max_ind=i\n",
    "avg=Sum/12\n",
    "print(\"The average=\",avg)\n",
    "print(\"The Max is:\",Max)\n",
    "print(\"Its number is:\",Max_ind)"
   ]
  },
  {
   "cell_type": "markdown",
   "id": "86d552e0",
   "metadata": {},
   "source": [
    "## Example: Computing Student's Average"
   ]
  },
  {
   "cell_type": "code",
   "execution_count": 5,
   "id": "37ffb70f",
   "metadata": {},
   "outputs": [
    {
     "name": "stdout",
     "output_type": "stream",
     "text": [
      "The number of Courses:4\n",
      "The grade and its number:15.25 3\n",
      "The grade and its number:17.50 2\n",
      "The grade and its number:18 3\n",
      "The grade and its number:20 2\n",
      "Your average is: 17.475\n"
     ]
    }
   ],
   "source": [
    "n=int(input(\"The number of Courses:\"))\n",
    "Sum=0\n",
    "Sum_ng=0\n",
    "for i in range(n):\n",
    "    grade,ng=input(\"The grade and its number:\").split()\n",
    "    grade=float(grade)\n",
    "    ng=int(ng)\n",
    "    Sum+=grade*ng\n",
    "    Sum_ng+=ng\n",
    "avg=Sum/Sum_ng\n",
    "print(\"Your average is:\",avg)\n",
    "if avg<12:\n",
    "    print(\"Mashrout\")\n",
    "if avg>17:\n",
    "    print(\"You are very clever!\")\n",
    "    "
   ]
  },
  {
   "cell_type": "code",
   "execution_count": null,
   "id": "a838da8b",
   "metadata": {},
   "outputs": [],
   "source": []
  }
 ],
 "metadata": {
  "kernelspec": {
   "display_name": "Python 3 (ipykernel)",
   "language": "python",
   "name": "python3"
  },
  "language_info": {
   "codemirror_mode": {
    "name": "ipython",
    "version": 3
   },
   "file_extension": ".py",
   "mimetype": "text/x-python",
   "name": "python",
   "nbconvert_exporter": "python",
   "pygments_lexer": "ipython3",
   "version": "3.9.7"
  }
 },
 "nbformat": 4,
 "nbformat_minor": 5
}
