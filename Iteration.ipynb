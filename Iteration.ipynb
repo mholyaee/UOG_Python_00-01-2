{
 "cells": [
  {
   "cell_type": "markdown",
   "id": "c2cd9e92",
   "metadata": {},
   "source": [
    "# Iterations and loops"
   ]
  },
  {
   "cell_type": "markdown",
   "id": "51b366e5",
   "metadata": {},
   "source": [
    "## Factorial:"
   ]
  },
  {
   "cell_type": "code",
   "execution_count": 1,
   "id": "e7396d5c",
   "metadata": {},
   "outputs": [
    {
     "name": "stdout",
     "output_type": "stream",
     "text": [
      "number:5\n",
      "output= 120\n"
     ]
    }
   ],
   "source": [
    "n=int(input(\"number:\"))\n",
    "F=1\n",
    "while n>0:\n",
    "    F=F*n\n",
    "    n=n-1\n",
    "print(\"output=\",F)\n",
    "    "
   ]
  },
  {
   "cell_type": "markdown",
   "id": "9c9b06ca",
   "metadata": {},
   "source": [
    "### Second form:"
   ]
  },
  {
   "cell_type": "code",
   "execution_count": 2,
   "id": "b10fb69c",
   "metadata": {},
   "outputs": [
    {
     "name": "stdout",
     "output_type": "stream",
     "text": [
      "number:5\n",
      "output= 120\n"
     ]
    }
   ],
   "source": [
    "n=int(input(\"number:\"))\n",
    "F=1\n",
    "i=1\n",
    "while i<=n:\n",
    "    F=F*i\n",
    "    i=i+1\n",
    "print(\"output=\",F)\n",
    "    "
   ]
  },
  {
   "cell_type": "markdown",
   "id": "865bdaba",
   "metadata": {},
   "source": [
    "## Sum of a seri"
   ]
  },
  {
   "cell_type": "code",
   "execution_count": 3,
   "id": "4cf585ac",
   "metadata": {},
   "outputs": [
    {
     "name": "stdout",
     "output_type": "stream",
     "text": [
      "5.187377517639621\n"
     ]
    }
   ],
   "source": [
    "s=0\n",
    "i=1\n",
    "while i<=100:\n",
    "    s+=1/i\n",
    "    i+=1\n",
    "print(s)"
   ]
  },
  {
   "cell_type": "code",
   "execution_count": 6,
   "id": "b4d7900e",
   "metadata": {},
   "outputs": [
    {
     "name": "stdout",
     "output_type": "stream",
     "text": [
      "number:5482\n",
      "1\n",
      "2\n",
      "2741\n",
      "5482\n"
     ]
    }
   ],
   "source": [
    "n=input(\"number:\")\n",
    "n=int(n)\n",
    "i=1\n",
    "while i<=n:\n",
    "    if n%i==0:\n",
    "        print(i)\n",
    "    i+=1"
   ]
  },
  {
   "cell_type": "code",
   "execution_count": null,
   "id": "9746c4d8",
   "metadata": {},
   "outputs": [],
   "source": []
  }
 ],
 "metadata": {
  "kernelspec": {
   "display_name": "Python 3 (ipykernel)",
   "language": "python",
   "name": "python3"
  },
  "language_info": {
   "codemirror_mode": {
    "name": "ipython",
    "version": 3
   },
   "file_extension": ".py",
   "mimetype": "text/x-python",
   "name": "python",
   "nbconvert_exporter": "python",
   "pygments_lexer": "ipython3",
   "version": "3.9.7"
  }
 },
 "nbformat": 4,
 "nbformat_minor": 5
}
