{
 "cells": [
  {
   "cell_type": "code",
   "execution_count": 4,
   "id": "0921d54b",
   "metadata": {},
   "outputs": [
    {
     "name": "stdout",
     "output_type": "stream",
     "text": [
      "get your average:15\n",
      "normal\n",
      "Good\n"
     ]
    }
   ],
   "source": [
    "avg=float(input(\"get your average:\"))\n",
    "if avg<12:\n",
    "    print(\"Weak\")\n",
    "if avg>=12 and avg<14:\n",
    "    print(\"normal\")\n",
    "if avg>=14 and avg<16:\n",
    "    print(\"Good\")\n",
    "if avg>=16:\n",
    "    print(\"excellent\")"
   ]
  },
  {
   "cell_type": "code",
   "execution_count": 5,
   "id": "8ea2a9cd",
   "metadata": {},
   "outputs": [
    {
     "name": "stdout",
     "output_type": "stream",
     "text": [
      "get your average:15\n",
      "Good\n"
     ]
    }
   ],
   "source": [
    "avg=float(input(\"get your average:\"))\n",
    "if avg<12:\n",
    "    print(\"Weak\")\n",
    "if 12<=avg<14: #avg>=12 and avg<14\n",
    "    print(\"normal\")\n",
    "if 14<=avg<16:  #avg>=14 and avg<16\n",
    "    print(\"Good\")\n",
    "if avg>=16:\n",
    "    print(\"excellent\")"
   ]
  },
  {
   "cell_type": "code",
   "execution_count": 7,
   "id": "64002b3c",
   "metadata": {},
   "outputs": [
    {
     "name": "stdout",
     "output_type": "stream",
     "text": [
      "get your average:19.56\n",
      "excellent\n"
     ]
    }
   ],
   "source": [
    "avg=float(input(\"get your average:\"))\n",
    "if avg<12:\n",
    "    print(\"weak\")\n",
    "elif avg<14:\n",
    "    print(\"normal\")\n",
    "elif avg<16:\n",
    "    print(\"good\")\n",
    "else:\n",
    "    print(\"excellent\")"
   ]
  },
  {
   "cell_type": "code",
   "execution_count": 12,
   "id": "87607268",
   "metadata": {
    "scrolled": false
   },
   "outputs": [
    {
     "name": "stdout",
     "output_type": "stream",
     "text": [
      "12 3 3\n",
      "12\n"
     ]
    }
   ],
   "source": [
    "a,b,c=input().split()\n",
    "a=int(a)\n",
    "b=int(b)\n",
    "c=int(c)\n",
    "if a>b:\n",
    "    temp=a\n",
    "else:\n",
    "    temp=b\n",
    "if temp<c:\n",
    "    temp=c\n",
    "print(temp)\n",
    "    "
   ]
  },
  {
   "cell_type": "markdown",
   "id": "425cf8cd",
   "metadata": {},
   "source": [
    "## A simple calculator"
   ]
  },
  {
   "cell_type": "code",
   "execution_count": 4,
   "id": "edeae33b",
   "metadata": {},
   "outputs": [
    {
     "name": "stdout",
     "output_type": "stream",
     "text": [
      "numbers:12 0\n",
      "Opreator:/\n",
      "division by zero\n"
     ]
    }
   ],
   "source": [
    "a,b=input(\"numbers:\").split()\n",
    "op=input(\"Opreator:\")\n",
    "a=int(a)\n",
    "b=int(b)\n",
    "if op==\"+\":\n",
    "    print(a+b)\n",
    "elif op==\"-\":\n",
    "    print(a-b)\n",
    "elif op==\"*\":\n",
    "    print(a*b)\n",
    "elif op==\"/\":\n",
    "    try:\n",
    "        print(a/b)\n",
    "    except:\n",
    "        print(\"division by zero\")    \n",
    "elif op==\"^\":\n",
    "    print(a**b)"
   ]
  },
  {
   "cell_type": "code",
   "execution_count": null,
   "id": "20f40d97",
   "metadata": {},
   "outputs": [],
   "source": []
  }
 ],
 "metadata": {
  "kernelspec": {
   "display_name": "Python 3 (ipykernel)",
   "language": "python",
   "name": "python3"
  },
  "language_info": {
   "codemirror_mode": {
    "name": "ipython",
    "version": 3
   },
   "file_extension": ".py",
   "mimetype": "text/x-python",
   "name": "python",
   "nbconvert_exporter": "python",
   "pygments_lexer": "ipython3",
   "version": "3.9.7"
  }
 },
 "nbformat": 4,
 "nbformat_minor": 5
}
